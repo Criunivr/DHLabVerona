{
  "nbformat": 4,
  "nbformat_minor": 0,
  "metadata": {
    "colab": {
      "name": "Twitter_API_demo.ipynb",
      "provenance": [],
      "collapsed_sections": []
    },
    "kernelspec": {
      "name": "python3",
      "display_name": "Python 3"
    },
    "language_info": {
      "name": "python"
    }
  },
  "cells": [
    {
      "cell_type": "markdown",
      "source": [
        "## 0. Preparation\n",
        "\n",
        "You have to move the API keys (in a .csv file) into the working folder (use the panel on the left) "
      ],
      "metadata": {
        "id": "chEt2JOIePz0"
      }
    },
    {
      "cell_type": "markdown",
      "source": [
        "## 1. TwitterAPI package"
      ],
      "metadata": {
        "id": "fFbkpE-5grPF"
      }
    },
    {
      "cell_type": "code",
      "source": [
        "!pip install TwitterAPI"
      ],
      "metadata": {
        "id": "i1-vZSmvDUbc",
        "colab": {
          "base_uri": "https://localhost:8080/"
        },
        "outputId": "00e7c0d8-6b05-43dc-8fb9-1a246a9a4894"
      },
      "execution_count": 1,
      "outputs": [
        {
          "output_type": "stream",
          "name": "stdout",
          "text": [
            "Collecting TwitterAPI\n",
            "  Downloading TwitterAPI-2.7.12.tar.gz (12 kB)\n",
            "Requirement already satisfied: requests in /usr/local/lib/python3.7/dist-packages (from TwitterAPI) (2.23.0)\n",
            "Requirement already satisfied: requests_oauthlib in /usr/local/lib/python3.7/dist-packages (from TwitterAPI) (1.3.1)\n",
            "Requirement already satisfied: idna<3,>=2.5 in /usr/local/lib/python3.7/dist-packages (from requests->TwitterAPI) (2.10)\n",
            "Requirement already satisfied: certifi>=2017.4.17 in /usr/local/lib/python3.7/dist-packages (from requests->TwitterAPI) (2021.10.8)\n",
            "Requirement already satisfied: urllib3!=1.25.0,!=1.25.1,<1.26,>=1.21.1 in /usr/local/lib/python3.7/dist-packages (from requests->TwitterAPI) (1.24.3)\n",
            "Requirement already satisfied: chardet<4,>=3.0.2 in /usr/local/lib/python3.7/dist-packages (from requests->TwitterAPI) (3.0.4)\n",
            "Requirement already satisfied: oauthlib>=3.0.0 in /usr/local/lib/python3.7/dist-packages (from requests_oauthlib->TwitterAPI) (3.2.0)\n",
            "Building wheels for collected packages: TwitterAPI\n",
            "  Building wheel for TwitterAPI (setup.py) ... \u001b[?25l\u001b[?25hdone\n",
            "  Created wheel for TwitterAPI: filename=TwitterAPI-2.7.12-py3-none-any.whl size=14193 sha256=87f14c5c845aaf6b005276d68e2819630f0ca2ee312e79d8df61412df328f4b9\n",
            "  Stored in directory: /root/.cache/pip/wheels/5b/a8/49/e1d7a4bab4c027aae108c209be8788349ccbc5ac51f53b6061\n",
            "Successfully built TwitterAPI\n",
            "Installing collected packages: TwitterAPI\n",
            "Successfully installed TwitterAPI-2.7.12\n"
          ]
        }
      ]
    },
    {
      "cell_type": "code",
      "source": [
        "from TwitterAPI import TwitterAPI\n",
        "import pandas as pd"
      ],
      "metadata": {
        "id": "3pDzUzvpDFgJ"
      },
      "execution_count": 2,
      "outputs": []
    },
    {
      "cell_type": "code",
      "execution_count": 4,
      "metadata": {
        "id": "mlaQIUX8DCk0"
      },
      "outputs": [],
      "source": [
        "my_keys = pd.read_csv('TwitterAPIKeys.csv')\n",
        "\n",
        "consumer_key = my_keys.iloc[0][1]\n",
        "consumer_secret = my_keys.iloc[1][1]"
      ]
    },
    {
      "cell_type": "code",
      "source": [
        "api = TwitterAPI(consumer_key,\n",
        "                 consumer_secret,\n",
        "                 api_version='2', \n",
        "                 auth_type='oAuth2')"
      ],
      "metadata": {
        "id": "eqUhd6wbfDvZ"
      },
      "execution_count": 5,
      "outputs": []
    },
    {
      "cell_type": "code",
      "source": [
        "r = api.request('tweets/search/recent', {\n",
        "        'query':'gatto',\n",
        "        'tweet.fields':'author_id',\n",
        "        'tweet.fields':'created_at',\n",
        "        'expansions':'author_id',\n",
        "        'max_results':100})\n",
        "for item in r:\n",
        "        print(item)"
      ],
      "metadata": {
        "id": "4QoAHKeVDtXg",
        "colab": {
          "base_uri": "https://localhost:8080/"
        },
        "outputId": "b8b2cda5-b951-4a8e-fa10-3244d33dc8e4"
      },
      "execution_count": 6,
      "outputs": [
        {
          "output_type": "stream",
          "name": "stdout",
          "text": [
            "{'author_id': '904750207052722176', 'id': '1499706444609904640', 'text': 'Bracciale realizzato con occhio di gatto ed ottone\\xa0regolabile https://t.co/3sg7mNLct9', 'created_at': '2022-03-04T11:20:54.000Z'}\n",
            "{'author_id': '833227855', 'id': '1499706267811876864', 'text': '【GATTO+定期INFO】声８名＋絵師１名＝９名で楽しく活動中！\\u3000★公式サイト(仮OPEN／音注意)⇒https://t.co/3oblcpYCin\\u3000★コミュ（ニコ生定期放送【GATTO＋99%】もよろしく♪）⇒https://t.co/FMakawZvPt', 'created_at': '2022-03-04T11:20:12.000Z'}\n",
            "{'author_id': '1335452079939149827', 'id': '1499706190304931841', 'text': '@Gatto__0822 ぷるぷるそうな唇触りてぇ！！(←うわ)', 'created_at': '2022-03-04T11:19:53.000Z'}\n",
            "{'author_id': '904750207052722176', 'id': '1499706187243302916', 'text': 'Bracciale realizzato con occhio di gatto ed ottone\\xa0regolabile https://t.co/rBPCAU7OSh', 'created_at': '2022-03-04T11:19:52.000Z'}\n",
            "{'author_id': '1343372362767425536', 'id': '1499706173750390785', 'text': '@RdogToken Done\\n@Nimfatejada1 @Joe_Gatto', 'created_at': '2022-03-04T11:19:49.000Z'}\n",
            "{'author_id': '1285262089402159112', 'id': '1499706034792898564', 'text': 'RT @meowri: ELDEN RING GATTO https://t.co/KQau5l7hKU', 'created_at': '2022-03-04T11:19:16.000Z'}\n",
            "{'author_id': '1244316856552493056', 'id': '1499705847534047233', 'text': 'RT @meowri: ELDEN RING GATTO https://t.co/KQau5l7hKU', 'created_at': '2022-03-04T11:18:31.000Z'}\n",
            "{'author_id': '1068521942825586688', 'id': '1499705760468676610', 'text': 'RT @applelally: “Prendi un gatto così non sarai mai più sola! Anzi due! Anzi tre!”\\nCerto infatti ora sono tutti e tre nella loro stanza che…', 'created_at': '2022-03-04T11:18:11.000Z'}\n",
            "{'author_id': '2912604964', 'id': '1499705704143282180', 'text': \"il fatto è che il mio gatto non ha paura dell'acqua e se viene bagnato non fa altro che prenderla come un gioco\", 'created_at': '2022-03-04T11:17:57.000Z'}\n",
            "{'author_id': '1477950373159530501', 'id': '1499705641622900737', 'text': 'RT @meowri: ELDEN RING GATTO https://t.co/KQau5l7hKU', 'created_at': '2022-03-04T11:17:42.000Z'}\n",
            "{'author_id': '1359200691340922880', 'id': '1499705628348010500', 'text': \"RT @zampe_d: RICEVO E CONDIVIDO ‼️       info dal numero: 3801477342\\n🙏🙏❤️\\nnon voltiamoci dall'altra parte \\nAIUTIAMO CHI AIUTA #Repost  \\n#ad…\", 'created_at': '2022-03-04T11:17:39.000Z'}\n",
            "{'author_id': '1285843892424683520', 'id': '1499705555929427970', 'text': 'RT @meowri: ELDEN RING GATTO https://t.co/KQau5l7hKU', 'created_at': '2022-03-04T11:17:22.000Z'}\n",
            "{'author_id': '2912604964', 'id': '1499705543241392129', 'text': 'mentre stavo facendo la doccia ho bagnato per sbaglio il gatto sulla testa', 'created_at': '2022-03-04T11:17:19.000Z'}\n",
            "{'author_id': '113752948', 'id': '1499705497779376133', 'text': 'Sentendosi cadere, un gatto affonda i suoi artigli nella carne viva di chi lo circonda, infliggendo più danno di una spada Vorpal. Ohi.', 'created_at': '2022-03-04T11:17:08.000Z'}\n",
            "{'author_id': '1139498233556819975', 'id': '1499705496990801921', 'text': 'RT @meowri: ELDEN RING GATTO https://t.co/KQau5l7hKU', 'created_at': '2022-03-04T11:17:08.000Z'}\n",
            "{'author_id': '1462012710405689349', 'id': '1499705487276847104', 'text': \"Didn't get much riding done on this one. 😂😻\\n\\nVisited our friend Dusty O and then everyone else wanted a stroke too!\\n\\n#cats #cat #catlover #catlife #instacat #meow #pets #catoftheday #gatos #lovecats #kot #chat #kedi #katze #gatto #katt #貓 #ネコ #london #cyclinglife https://t.co/t8ZythZLYz\", 'created_at': '2022-03-04T11:17:06.000Z'}\n",
            "{'author_id': '2580213245', 'id': '1499705484290445312', 'text': '@di_reddito Se fai passeggiare il gatto sulla tastiera, escono cose più intelligenti, fidati.', 'created_at': '2022-03-04T11:17:05.000Z'}\n",
            "{'author_id': '1325399763953610752', 'id': '1499705446336241664', 'text': 'RT @meowri: ELDEN RING GATTO https://t.co/KQau5l7hKU', 'created_at': '2022-03-04T11:16:56.000Z'}\n",
            "{'author_id': '2389208689', 'id': '1499705442120912898', 'text': 'RT @meowri: ELDEN RING GATTO https://t.co/KQau5l7hKU', 'created_at': '2022-03-04T11:16:55.000Z'}\n",
            "{'author_id': '1447007833216667649', 'id': '1499705395882909696', 'text': 'RT @meowri: ELDEN RING GATTO https://t.co/KQau5l7hKU', 'created_at': '2022-03-04T11:16:44.000Z'}\n",
            "{'author_id': '998009144543244288', 'id': '1499705380640862208', 'text': 'RT @meowri: ELDEN RING GATTO https://t.co/KQau5l7hKU', 'created_at': '2022-03-04T11:16:40.000Z'}\n",
            "{'author_id': '756957683668975616', 'id': '1499705378954698753', 'text': 'RT @meowri: ELDEN RING GATTO https://t.co/KQau5l7hKU', 'created_at': '2022-03-04T11:16:40.000Z'}\n",
            "{'author_id': '19227820', 'id': '1499705342627880978', 'text': 'RT @meowri: ELDEN RING GATTO https://t.co/KQau5l7hKU', 'created_at': '2022-03-04T11:16:31.000Z'}\n",
            "{'author_id': '1231006925770248192', 'id': '1499705264177500161', 'text': 'RT @meowri: ELDEN RING GATTO https://t.co/KQau5l7hKU', 'created_at': '2022-03-04T11:16:12.000Z'}\n",
            "{'author_id': '1408569543241482241', 'id': '1499705253712777219', 'text': \"non vedo l'ora di vedere il vlog di ryujin e chaeryeong, due caratteri così diversi, mi faranno sentire male, come cane e gatto ahah\", 'created_at': '2022-03-04T11:16:10.000Z'}\n",
            "{'author_id': '3092557202', 'id': '1499705020367122435', 'text': 'RT @meowri: ELDEN RING GATTO https://t.co/KQau5l7hKU', 'created_at': '2022-03-04T11:15:14.000Z'}\n",
            "{'author_id': '4374171981', 'id': '1499704991384317955', 'text': 'RT @meowri: ELDEN RING GATTO https://t.co/KQau5l7hKU', 'created_at': '2022-03-04T11:15:07.000Z'}\n",
            "{'author_id': '1643928084', 'id': '1499704964934864898', 'text': 'RT @meowri: ELDEN RING GATTO https://t.co/KQau5l7hKU', 'created_at': '2022-03-04T11:15:01.000Z'}\n",
            "{'author_id': '1262942091656732672', 'id': '1499704951018299395', 'text': 'RT @meowri: ELDEN RING GATTO https://t.co/KQau5l7hKU', 'created_at': '2022-03-04T11:14:58.000Z'}\n",
            "{'author_id': '1450163066210066437', 'id': '1499704907712057344', 'text': 'RT @meowri: ELDEN RING GATTO https://t.co/KQau5l7hKU', 'created_at': '2022-03-04T11:14:47.000Z'}\n",
            "{'author_id': '1418507375263326212', 'id': '1499704883682893830', 'text': 'La cosa che mi preoccupa di più è che vedo ancora pochissime caption di selfie col gatto “life during war times”', 'created_at': '2022-03-04T11:14:42.000Z'}\n",
            "{'author_id': '1410981506860961793', 'id': '1499704752199897094', 'text': '@IouiseIeblanc Il mio gatto è saltato quando ha sentito il video', 'created_at': '2022-03-04T11:14:10.000Z'}\n",
            "{'author_id': '1175006159767527425', 'id': '1499704741227646978', 'text': 'RT @meowri: ELDEN RING GATTO https://t.co/KQau5l7hKU', 'created_at': '2022-03-04T11:14:08.000Z'}\n",
            "{'author_id': '1260098998548873216', 'id': '1499704727348858885', 'text': 'RT @K_Cookie_Brooke: Affo-GATTO!!!! \\n\\n#cookierun #cookierunfanart #cookierunkingdom #affogatocookie #DarkCacaoCookie https://t.co/4lhZr1hbHp', 'created_at': '2022-03-04T11:14:04.000Z'}\n",
            "{'author_id': '2508142444', 'id': '1499704676140339203', 'text': \"RT @zampe_d: RICEVO E CONDIVIDO ‼️       info dal numero: 3801477342\\n🙏🙏❤️\\nnon voltiamoci dall'altra parte \\nAIUTIAMO CHI AIUTA #Repost  \\n#ad…\", 'created_at': '2022-03-04T11:13:52.000Z'}\n",
            "{'author_id': '2759890569', 'id': '1499704585941880838', 'text': 'RT @meowri: ELDEN RING GATTO https://t.co/KQau5l7hKU', 'created_at': '2022-03-04T11:13:31.000Z'}\n",
            "{'author_id': '3101674338', 'id': '1499704504110882821', 'text': 'RT @meowri: ELDEN RING GATTO https://t.co/KQau5l7hKU', 'created_at': '2022-03-04T11:13:11.000Z'}\n",
            "{'author_id': '1300623191010877440', 'id': '1499704485035315201', 'text': 'RT @meowri: ELDEN RING GATTO https://t.co/KQau5l7hKU', 'created_at': '2022-03-04T11:13:07.000Z'}\n",
            "{'author_id': '1861374138', 'id': '1499704394643873793', 'text': 'RT @meowri: ELDEN RING GATTO https://t.co/KQau5l7hKU', 'created_at': '2022-03-04T11:12:45.000Z'}\n",
            "{'author_id': '3077299866', 'id': '1499704366525206528', 'text': 'RT @meowri: ELDEN RING GATTO https://t.co/KQau5l7hKU', 'created_at': '2022-03-04T11:12:38.000Z'}\n",
            "{'author_id': '2665978674', 'id': '1499704287303110660', 'text': 'RT @meowri: ELDEN RING GATTO https://t.co/KQau5l7hKU', 'created_at': '2022-03-04T11:12:19.000Z'}\n",
            "{'author_id': '1366792728', 'id': '1499704262594637824', 'text': \"RT @zampe_d: RICEVO E CONDIVIDO ‼️       info dal numero: 3801477342\\n🙏🙏❤️\\nnon voltiamoci dall'altra parte \\nAIUTIAMO CHI AIUTA #Repost  \\n#ad…\", 'created_at': '2022-03-04T11:12:14.000Z'}\n",
            "{'author_id': '910457759828557824', 'id': '1499704262326108161', 'text': '@rickslyn_myers We gatto talk 😫 I be thinking on everything in the world 🤦🏿\\u200d♀️', 'created_at': '2022-03-04T11:12:13.000Z'}\n",
            "{'author_id': '1054397970895040512', 'id': '1499704215534505987', 'text': 'RT @meowri: ELDEN RING GATTO https://t.co/KQau5l7hKU', 'created_at': '2022-03-04T11:12:02.000Z'}\n",
            "{'author_id': '1143681972', 'id': '1499704167182577669', 'text': 'RT @meowri: ELDEN RING GATTO https://t.co/KQau5l7hKU', 'created_at': '2022-03-04T11:11:51.000Z'}\n",
            "{'author_id': '265308969', 'id': '1499704075541168133', 'text': '今日も一日お疲れちゃん\\n\\n#猫 #ネコ #ねこ #マンチカン #猫のいる幸せ #猫好きさんと繋がりたい #猫のいる暮らし #cat #gato #katze  #chat #gatto #miao https://t.co/mxbRAJ7nWs https://t.co/xtinxkn0y8', 'created_at': '2022-03-04T11:11:29.000Z'}\n",
            "{'author_id': '1353040636694441984', 'id': '1499704057468014607', 'text': 'RT @meowri: ELDEN RING GATTO https://t.co/KQau5l7hKU', 'created_at': '2022-03-04T11:11:25.000Z'}\n",
            "{'author_id': '2241741403', 'id': '1499704026862022656', 'text': 'RT @meowri: ELDEN RING GATTO https://t.co/KQau5l7hKU', 'created_at': '2022-03-04T11:11:17.000Z'}\n",
            "{'author_id': '1384346438071721985', 'id': '1499704026639880197', 'text': 'RT @meowri: ELDEN RING GATTO https://t.co/KQau5l7hKU', 'created_at': '2022-03-04T11:11:17.000Z'}\n",
            "{'author_id': '431025142', 'id': '1499703969077157889', 'text': 'RT @GioChirilly: La NATO  è come il gatto che cerca di rubare il cibo dalla ciotola del cane mentre dorme. Se poi il cane si sveglia e si i…', 'created_at': '2022-03-04T11:11:04.000Z'}\n",
            "{'author_id': '966858870571200512', 'id': '1499703789003051008', 'text': 'RT @meowri: ELDEN RING GATTO https://t.co/KQau5l7hKU', 'created_at': '2022-03-04T11:10:21.000Z'}\n",
            "{'author_id': '1239559948822077441', 'id': '1499703720652726274', 'text': \"RT @zampe_d: RICEVO E CONDIVIDO ‼️       info dal numero: 3801477342\\n🙏🙏❤️\\nnon voltiamoci dall'altra parte \\nAIUTIAMO CHI AIUTA #Repost  \\n#ad…\", 'created_at': '2022-03-04T11:10:04.000Z'}\n",
            "{'author_id': '2358949496', 'id': '1499703569913503744', 'text': 'RT @meowri: ELDEN RING GATTO https://t.co/KQau5l7hKU', 'created_at': '2022-03-04T11:09:28.000Z'}\n",
            "{'author_id': '768711084', 'id': '1499703515538759683', 'text': 'RT @meowri: ELDEN RING GATTO https://t.co/KQau5l7hKU', 'created_at': '2022-03-04T11:09:15.000Z'}\n",
            "{'author_id': '1234569095292637184', 'id': '1499703477282525185', 'text': 'RT @meowri: ELDEN RING GATTO https://t.co/KQau5l7hKU', 'created_at': '2022-03-04T11:09:06.000Z'}\n",
            "{'author_id': '719093893795614720', 'id': '1499703436295684100', 'text': '@Lillyb0971 Aranciate panini bibite gelati coca cola,noccioline... Se crede di portarlo così al tavolo...  Siamo del gatto!!!', 'created_at': '2022-03-04T11:08:57.000Z'}\n",
            "{'author_id': '1037693213124059136', 'id': '1499703414699266052', 'text': 'RT @meowri: ELDEN RING GATTO https://t.co/KQau5l7hKU', 'created_at': '2022-03-04T11:08:51.000Z'}\n",
            "{'author_id': '1375101436133007372', 'id': '1499703362635378688', 'text': 'RT @meowri: ELDEN RING GATTO https://t.co/KQau5l7hKU', 'created_at': '2022-03-04T11:08:39.000Z'}\n",
            "{'author_id': '3072305173', 'id': '1499703356713058308', 'text': 'RT @meowri: ELDEN RING GATTO https://t.co/KQau5l7hKU', 'created_at': '2022-03-04T11:08:38.000Z'}\n",
            "{'author_id': '930134971041419264', 'id': '1499703333803773954', 'text': 'RT @meowri: ELDEN RING GATTO https://t.co/KQau5l7hKU', 'created_at': '2022-03-04T11:08:32.000Z'}\n",
            "{'author_id': '1377371616217301000', 'id': '1499703264182509574', 'text': 'RT @Sonia35178282: Falsa, cattiva, perfida, velenosa, irrispettosa, maleducata, saccente  arrogante,rubauomini altrui  traditrice seriale,…', 'created_at': '2022-03-04T11:08:15.000Z'}\n",
            "{'author_id': '2181071294', 'id': '1499703258025242624', 'text': 'RT @meowri: ELDEN RING GATTO https://t.co/KQau5l7hKU', 'created_at': '2022-03-04T11:08:14.000Z'}\n",
            "{'author_id': '747033728162144256', 'id': '1499703189880426497', 'text': 'RT @meowri: ELDEN RING GATTO https://t.co/KQau5l7hKU', 'created_at': '2022-03-04T11:07:58.000Z'}\n",
            "{'author_id': '1859559632', 'id': '1499703050323509249', 'text': 'RT @meowri: ELDEN RING GATTO https://t.co/KQau5l7hKU', 'created_at': '2022-03-04T11:07:24.000Z'}\n",
            "{'author_id': '795384716170002433', 'id': '1499702956458917891', 'text': 'RT @meowri: ELDEN RING GATTO https://t.co/KQau5l7hKU', 'created_at': '2022-03-04T11:07:02.000Z'}\n",
            "{'author_id': '1353863444718616577', 'id': '1499702944287100929', 'text': 'RT @Sonia35178282: Falsa, cattiva, perfida, velenosa, irrispettosa, maleducata, saccente  arrogante,rubauomini altrui  traditrice seriale,…', 'created_at': '2022-03-04T11:06:59.000Z'}\n",
            "{'author_id': '1663647608', 'id': '1499702942470918147', 'text': 'RT @meowri: ELDEN RING GATTO https://t.co/KQau5l7hKU', 'created_at': '2022-03-04T11:06:59.000Z'}\n",
            "{'author_id': '1267677650', 'id': '1499702939379716100', 'text': 'RT @GioChirilly: La NATO  è come il gatto che cerca di rubare il cibo dalla ciotola del cane mentre dorme. Se poi il cane si sveglia e si i…', 'created_at': '2022-03-04T11:06:58.000Z'}\n",
            "{'author_id': '528566342', 'id': '1499702842898235398', 'text': 'RT @meowri: ELDEN RING GATTO https://t.co/KQau5l7hKU', 'created_at': '2022-03-04T11:06:35.000Z'}\n",
            "{'author_id': '818535860073336833', 'id': '1499702804541288455', 'text': 'RT @meowri: ELDEN RING GATTO https://t.co/KQau5l7hKU', 'created_at': '2022-03-04T11:06:26.000Z'}\n",
            "{'author_id': '981633470584770562', 'id': '1499702762187153410', 'text': 'RT @meowri: ELDEN RING GATTO https://t.co/KQau5l7hKU', 'created_at': '2022-03-04T11:06:16.000Z'}\n",
            "{'author_id': '1448980223295434757', 'id': '1499702741773475844', 'text': 'RT @meowri: ELDEN RING GATTO https://t.co/KQau5l7hKU', 'created_at': '2022-03-04T11:06:11.000Z'}\n",
            "{'author_id': '1335803653727408129', 'id': '1499702670038384640', 'text': 'RT @meowri: ELDEN RING GATTO https://t.co/KQau5l7hKU', 'created_at': '2022-03-04T11:05:54.000Z'}\n",
            "{'author_id': '1248690591678058497', 'id': '1499702644327301120', 'text': 'RT @meowri: ELDEN RING GATTO https://t.co/KQau5l7hKU', 'created_at': '2022-03-04T11:05:48.000Z'}\n",
            "{'author_id': '364970872', 'id': '1499702583514050562', 'text': 'RT @LAVonlus: Migliaia di persone stanno fuggendo dall’#Ucraina, devastata dalla #guerra, come Irina e Alissa arrivate ieri in Italia con K…', 'created_at': '2022-03-04T11:05:33.000Z'}\n",
            "{'author_id': '1472400688760209414', 'id': '1499702451657707520', 'text': 'RT @insalatinarussa: Lo ribadisco. Il gatto Silvestro aka iguana fuori da quella casa subitooo deve filare #jeru #fairylu', 'created_at': '2022-03-04T11:05:02.000Z'}\n",
            "{'author_id': '2285587824', 'id': '1499702443470376961', 'text': 'Alimentare il tuo Gatto con il Pesce è una Buona Idea? https://t.co/H0W3XVMz8k', 'created_at': '2022-03-04T11:05:00.000Z'}\n",
            "{'author_id': '1009939688730316800', 'id': '1499702358632280064', 'text': 'RT @meowri: ELDEN RING GATTO https://t.co/KQau5l7hKU', 'created_at': '2022-03-04T11:04:40.000Z'}\n",
            "{'author_id': '244478301', 'id': '1499702271097155586', 'text': 'RT @meowri: ELDEN RING GATTO https://t.co/KQau5l7hKU', 'created_at': '2022-03-04T11:04:19.000Z'}\n",
            "{'author_id': '1350121328', 'id': '1499702240323547143', 'text': 'è incredibile quanto yoongi sembri un gatto ha proprio la faccia da felino impazzisco daily tweet', 'created_at': '2022-03-04T11:04:11.000Z'}\n",
            "{'author_id': '2898614491', 'id': '1499702230051602433', 'text': 'RT @meowri: ELDEN RING GATTO https://t.co/KQau5l7hKU', 'created_at': '2022-03-04T11:04:09.000Z'}\n",
            "{'author_id': '790159897015021568', 'id': '1499702015873753089', 'text': 'RT @meowri: ELDEN RING GATTO https://t.co/KQau5l7hKU', 'created_at': '2022-03-04T11:03:18.000Z'}\n",
            "{'author_id': '2737278380', 'id': '1499702005010419714', 'text': 'RT @meowri: ELDEN RING GATTO https://t.co/KQau5l7hKU', 'created_at': '2022-03-04T11:03:15.000Z'}\n",
            "{'author_id': '1388584687032061958', 'id': '1499701980905848834', 'text': \"L'angolo dell'arte: Mary Cassat, Sara che tiene un gatto https://t.co/AsyZpURiO3\", 'created_at': '2022-03-04T11:03:10.000Z'}\n",
            "{'author_id': '400737512', 'id': '1499701896939978755', 'text': 'RT @meowri: ELDEN RING GATTO https://t.co/KQau5l7hKU', 'created_at': '2022-03-04T11:02:50.000Z'}\n",
            "{'author_id': '540771201', 'id': '1499701890862485507', 'text': 'RT @meowri: ELDEN RING GATTO https://t.co/KQau5l7hKU', 'created_at': '2022-03-04T11:02:48.000Z'}\n",
            "{'author_id': '1012893330', 'id': '1499701889625206788', 'text': \"RT @zampe_d: RICEVO E CONDIVIDO ‼️       info dal numero: 3801477342\\n🙏🙏❤️\\nnon voltiamoci dall'altra parte \\nAIUTIAMO CHI AIUTA #Repost  \\n#ad…\", 'created_at': '2022-03-04T11:02:48.000Z'}\n",
            "{'author_id': '966929104367833088', 'id': '1499701790211641344', 'text': 'RT @meowri: ELDEN RING GATTO https://t.co/KQau5l7hKU', 'created_at': '2022-03-04T11:02:24.000Z'}\n",
            "{'author_id': '3082730955', 'id': '1499701753146589186', 'text': 'RT @meowri: ELDEN RING GATTO https://t.co/KQau5l7hKU', 'created_at': '2022-03-04T11:02:15.000Z'}\n",
            "{'author_id': '3381385042', 'id': '1499701747287212032', 'text': 'RT @GioChirilly: La NATO  è come il gatto che cerca di rubare il cibo dalla ciotola del cane mentre dorme. Se poi il cane si sveglia e si i…', 'created_at': '2022-03-04T11:02:14.000Z'}\n",
            "{'author_id': '1172557296737628160', 'id': '1499701715435675648', 'text': 'RT @meowri: ELDEN RING GATTO https://t.co/KQau5l7hKU', 'created_at': '2022-03-04T11:02:06.000Z'}\n",
            "{'author_id': '608149538', 'id': '1499701710830419971', 'text': 'RT @GioChirilly: La NATO  è come il gatto che cerca di rubare il cibo dalla ciotola del cane mentre dorme. Se poi il cane si sveglia e si i…', 'created_at': '2022-03-04T11:02:05.000Z'}\n",
            "{'author_id': '1213638971214839808', 'id': '1499701692509474818', 'text': 'RT @meowri: ELDEN RING GATTO https://t.co/KQau5l7hKU', 'created_at': '2022-03-04T11:02:01.000Z'}\n",
            "{'author_id': '1440581739055763466', 'id': '1499701677716393986', 'text': 'RT @meowri: ELDEN RING GATTO https://t.co/KQau5l7hKU', 'created_at': '2022-03-04T11:01:57.000Z'}\n",
            "{'author_id': '1364133761932263424', 'id': '1499701615682596865', 'text': '@adrianaapa__ Ma chi? Il gatto, amoreeeeee', 'created_at': '2022-03-04T11:01:42.000Z'}\n",
            "{'author_id': '797506411148312576', 'id': '1499701594409033731', 'text': 'La NATO  è come il gatto che cerca di rubare il cibo dalla ciotola del cane mentre dorme. Se poi il cane si sveglia e si incazza la colpa la si vorrebbe   dare a Fido\\n#Guerra', 'created_at': '2022-03-04T11:01:37.000Z'}\n",
            "{'author_id': '728656078649610240', 'id': '1499701548368244741', 'text': '@maedeline456 Io non sono una jeru ma detto da una che non è mai andata in nomination, ha tradito tutte le amiche, pulisce e cucina per non farsi nominare, ieri ha fatto degli occhioni che sembrava il gatto di shreck per farsi salvare da Miriana.. è proprio ridicola! Quando esce???', 'created_at': '2022-03-04T11:01:26.000Z'}\n",
            "{'author_id': '1961279371', 'id': '1499701511672238082', 'text': 'RT @Faraone2016: \"Guardare un gatto è come guardare il fuoco: si rimane sempre incantati.\" 😻🐾🐾\\n(Giorgio Celli)\\n#GiornataNazionaleDelGatto 🐾…', 'created_at': '2022-03-04T11:01:18.000Z'}\n",
            "{'author_id': '2477809220', 'id': '1499701510305124354', 'text': 'RT @meowri: ELDEN RING GATTO https://t.co/KQau5l7hKU', 'created_at': '2022-03-04T11:01:17.000Z'}\n",
            "{'author_id': '1476928424413478916', 'id': '1499701432605368326', 'text': '@artemidisumbra NO ANSIOSA SONO IO, che questa salta come na pazza se crede de essere un gatto, sale le scale come un fulmine non capisce de essere un microbo, me farà venire qualcosa al cuore.... Chiwawa è da boomer... Chihuahua sis', 'created_at': '2022-03-04T11:00:59.000Z'}\n"
          ]
        }
      ]
    },
    {
      "cell_type": "markdown",
      "source": [
        "More details on the query arguments: https://developer.twitter.com/en/docs/twitter-api/tweets/search/api-reference/get-tweets-search-recent"
      ],
      "metadata": {
        "id": "VuXuHCqpgVxd"
      }
    },
    {
      "cell_type": "markdown",
      "source": [
        "## 2. TWARC"
      ],
      "metadata": {
        "id": "g_KEJrNtguSj"
      }
    },
    {
      "cell_type": "code",
      "source": [
        "!pip install twarc\n",
        "!pip3 install --upgrade twarc-csv"
      ],
      "metadata": {
        "id": "LgFZiH0Ag1S9",
        "colab": {
          "base_uri": "https://localhost:8080/"
        },
        "outputId": "ff30e0a5-6448-4351-9dc6-d9ede2592adf"
      },
      "execution_count": 7,
      "outputs": [
        {
          "output_type": "stream",
          "name": "stdout",
          "text": [
            "Collecting twarc\n",
            "  Downloading twarc-2.9.4-py3-none-any.whl (55 kB)\n",
            "\u001b[?25l\r\u001b[K     |█████▉                          | 10 kB 22.2 MB/s eta 0:00:01\r\u001b[K     |███████████▊                    | 20 kB 27.3 MB/s eta 0:00:01\r\u001b[K     |█████████████████▋              | 30 kB 28.6 MB/s eta 0:00:01\r\u001b[K     |███████████████████████▌        | 40 kB 15.2 MB/s eta 0:00:01\r\u001b[K     |█████████████████████████████▍  | 51 kB 9.1 MB/s eta 0:00:01\r\u001b[K     |████████████████████████████████| 55 kB 2.7 MB/s \n",
            "\u001b[?25hRequirement already satisfied: requests-oauthlib>=1.3 in /usr/local/lib/python3.7/dist-packages (from twarc) (1.3.1)\n",
            "Collecting click-config-file>=0.6\n",
            "  Downloading click_config_file-0.6.0-py2.py3-none-any.whl (6.0 kB)\n",
            "Collecting humanize>=3.9\n",
            "  Downloading humanize-4.0.0-py3-none-any.whl (97 kB)\n",
            "\u001b[K     |████████████████████████████████| 97 kB 4.0 MB/s \n",
            "\u001b[?25hRequirement already satisfied: tqdm>=4.62 in /usr/local/lib/python3.7/dist-packages (from twarc) (4.63.0)\n",
            "Collecting click-plugins>=1\n",
            "  Downloading click_plugins-1.1.1-py2.py3-none-any.whl (7.5 kB)\n",
            "Requirement already satisfied: python-dateutil>=2.8 in /usr/local/lib/python3.7/dist-packages (from twarc) (2.8.2)\n",
            "Requirement already satisfied: click<9,>=7 in /usr/local/lib/python3.7/dist-packages (from twarc) (7.1.2)\n",
            "Collecting configobj>=5.0.6\n",
            "  Downloading configobj-5.0.6.tar.gz (33 kB)\n",
            "Requirement already satisfied: six in /usr/local/lib/python3.7/dist-packages (from configobj>=5.0.6->click-config-file>=0.6->twarc) (1.15.0)\n",
            "Requirement already satisfied: importlib-metadata in /usr/local/lib/python3.7/dist-packages (from humanize>=3.9->twarc) (4.11.2)\n",
            "Requirement already satisfied: oauthlib>=3.0.0 in /usr/local/lib/python3.7/dist-packages (from requests-oauthlib>=1.3->twarc) (3.2.0)\n",
            "Requirement already satisfied: requests>=2.0.0 in /usr/local/lib/python3.7/dist-packages (from requests-oauthlib>=1.3->twarc) (2.23.0)\n",
            "Requirement already satisfied: urllib3!=1.25.0,!=1.25.1,<1.26,>=1.21.1 in /usr/local/lib/python3.7/dist-packages (from requests>=2.0.0->requests-oauthlib>=1.3->twarc) (1.24.3)\n",
            "Requirement already satisfied: chardet<4,>=3.0.2 in /usr/local/lib/python3.7/dist-packages (from requests>=2.0.0->requests-oauthlib>=1.3->twarc) (3.0.4)\n",
            "Requirement already satisfied: idna<3,>=2.5 in /usr/local/lib/python3.7/dist-packages (from requests>=2.0.0->requests-oauthlib>=1.3->twarc) (2.10)\n",
            "Requirement already satisfied: certifi>=2017.4.17 in /usr/local/lib/python3.7/dist-packages (from requests>=2.0.0->requests-oauthlib>=1.3->twarc) (2021.10.8)\n",
            "Requirement already satisfied: typing-extensions>=3.6.4 in /usr/local/lib/python3.7/dist-packages (from importlib-metadata->humanize>=3.9->twarc) (3.10.0.2)\n",
            "Requirement already satisfied: zipp>=0.5 in /usr/local/lib/python3.7/dist-packages (from importlib-metadata->humanize>=3.9->twarc) (3.7.0)\n",
            "Building wheels for collected packages: configobj\n",
            "  Building wheel for configobj (setup.py) ... \u001b[?25l\u001b[?25hdone\n",
            "  Created wheel for configobj: filename=configobj-5.0.6-py3-none-any.whl size=34547 sha256=4d5050d5d3f6d30921b02d5aa8f3dc7fb9b121736c5f5a12874dfa0f6d936ab1\n",
            "  Stored in directory: /root/.cache/pip/wheels/0d/c4/19/13d74440f2a571841db6b6e0a273694327498884dafb9cf978\n",
            "Successfully built configobj\n",
            "Installing collected packages: configobj, humanize, click-plugins, click-config-file, twarc\n",
            "  Attempting uninstall: humanize\n",
            "    Found existing installation: humanize 0.5.1\n",
            "    Uninstalling humanize-0.5.1:\n",
            "      Successfully uninstalled humanize-0.5.1\n",
            "Successfully installed click-config-file-0.6.0 click-plugins-1.1.1 configobj-5.0.6 humanize-4.0.0 twarc-2.9.4\n",
            "Collecting twarc-csv\n",
            "  Downloading twarc-csv-0.5.1.tar.gz (7.9 kB)\n",
            "Requirement already satisfied: twarc>=2.8.0 in /usr/local/lib/python3.7/dist-packages (from twarc-csv) (2.9.4)\n",
            "Requirement already satisfied: pandas>=1.2.5 in /usr/local/lib/python3.7/dist-packages (from twarc-csv) (1.3.5)\n",
            "Requirement already satisfied: more-itertools>=8.7.0 in /usr/local/lib/python3.7/dist-packages (from twarc-csv) (8.12.0)\n",
            "Requirement already satisfied: tqdm>=4.59.0 in /usr/local/lib/python3.7/dist-packages (from twarc-csv) (4.63.0)\n",
            "Requirement already satisfied: pytz>=2017.3 in /usr/local/lib/python3.7/dist-packages (from pandas>=1.2.5->twarc-csv) (2018.9)\n",
            "Requirement already satisfied: python-dateutil>=2.7.3 in /usr/local/lib/python3.7/dist-packages (from pandas>=1.2.5->twarc-csv) (2.8.2)\n",
            "Requirement already satisfied: numpy>=1.17.3 in /usr/local/lib/python3.7/dist-packages (from pandas>=1.2.5->twarc-csv) (1.21.5)\n",
            "Requirement already satisfied: six>=1.5 in /usr/local/lib/python3.7/dist-packages (from python-dateutil>=2.7.3->pandas>=1.2.5->twarc-csv) (1.15.0)\n",
            "Requirement already satisfied: requests-oauthlib>=1.3 in /usr/local/lib/python3.7/dist-packages (from twarc>=2.8.0->twarc-csv) (1.3.1)\n",
            "Requirement already satisfied: click<9,>=7 in /usr/local/lib/python3.7/dist-packages (from twarc>=2.8.0->twarc-csv) (7.1.2)\n",
            "Requirement already satisfied: humanize>=3.9 in /usr/local/lib/python3.7/dist-packages (from twarc>=2.8.0->twarc-csv) (4.0.0)\n",
            "Requirement already satisfied: click-plugins>=1 in /usr/local/lib/python3.7/dist-packages (from twarc>=2.8.0->twarc-csv) (1.1.1)\n",
            "Requirement already satisfied: click-config-file>=0.6 in /usr/local/lib/python3.7/dist-packages (from twarc>=2.8.0->twarc-csv) (0.6.0)\n",
            "Requirement already satisfied: configobj>=5.0.6 in /usr/local/lib/python3.7/dist-packages (from click-config-file>=0.6->twarc>=2.8.0->twarc-csv) (5.0.6)\n",
            "Requirement already satisfied: importlib-metadata in /usr/local/lib/python3.7/dist-packages (from humanize>=3.9->twarc>=2.8.0->twarc-csv) (4.11.2)\n",
            "Requirement already satisfied: requests>=2.0.0 in /usr/local/lib/python3.7/dist-packages (from requests-oauthlib>=1.3->twarc>=2.8.0->twarc-csv) (2.23.0)\n",
            "Requirement already satisfied: oauthlib>=3.0.0 in /usr/local/lib/python3.7/dist-packages (from requests-oauthlib>=1.3->twarc>=2.8.0->twarc-csv) (3.2.0)\n",
            "Requirement already satisfied: urllib3!=1.25.0,!=1.25.1,<1.26,>=1.21.1 in /usr/local/lib/python3.7/dist-packages (from requests>=2.0.0->requests-oauthlib>=1.3->twarc>=2.8.0->twarc-csv) (1.24.3)\n",
            "Requirement already satisfied: chardet<4,>=3.0.2 in /usr/local/lib/python3.7/dist-packages (from requests>=2.0.0->requests-oauthlib>=1.3->twarc>=2.8.0->twarc-csv) (3.0.4)\n",
            "Requirement already satisfied: certifi>=2017.4.17 in /usr/local/lib/python3.7/dist-packages (from requests>=2.0.0->requests-oauthlib>=1.3->twarc>=2.8.0->twarc-csv) (2021.10.8)\n",
            "Requirement already satisfied: idna<3,>=2.5 in /usr/local/lib/python3.7/dist-packages (from requests>=2.0.0->requests-oauthlib>=1.3->twarc>=2.8.0->twarc-csv) (2.10)\n",
            "Requirement already satisfied: zipp>=0.5 in /usr/local/lib/python3.7/dist-packages (from importlib-metadata->humanize>=3.9->twarc>=2.8.0->twarc-csv) (3.7.0)\n",
            "Requirement already satisfied: typing-extensions>=3.6.4 in /usr/local/lib/python3.7/dist-packages (from importlib-metadata->humanize>=3.9->twarc>=2.8.0->twarc-csv) (3.10.0.2)\n",
            "Building wheels for collected packages: twarc-csv\n",
            "  Building wheel for twarc-csv (setup.py) ... \u001b[?25l\u001b[?25hdone\n",
            "  Created wheel for twarc-csv: filename=twarc_csv-0.5.1-py3-none-any.whl size=9252 sha256=e60990935dfc3db7a833fe12a39ed64afef6fe1beec1a04e0dbe92569f57f7bd\n",
            "  Stored in directory: /root/.cache/pip/wheels/73/dc/97/79b383774eb06f882d070b3dfa18fad517c94c358d8a703e61\n",
            "Successfully built twarc-csv\n",
            "Installing collected packages: twarc-csv\n",
            "Successfully installed twarc-csv-0.5.1\n"
          ]
        }
      ]
    },
    {
      "cell_type": "markdown",
      "source": [
        "...then you will have to configure TWARC2 (version 2.0).  \n",
        "Run the cell, then add (manually) the \"Bearer Token\" (you find it in the csv file)  \n",
        "Then just select (n), i.e. no additional authentication methods \n",
        "Finally, please delete the output cell (because in it the BearerToken will be printed)"
      ],
      "metadata": {
        "id": "v14UDk41g7cj"
      }
    },
    {
      "cell_type": "code",
      "source": [
        "!twarc2 configure"
      ],
      "metadata": {
        "id": "RGvJ0sTng6ka"
      },
      "execution_count": null,
      "outputs": []
    },
    {
      "cell_type": "code",
      "source": [
        "!twarc2 search --limit 1000 \"ukraine\" results.jsonl"
      ],
      "metadata": {
        "id": "iGIlr4IuhrE_",
        "colab": {
          "base_uri": "https://localhost:8080/"
        },
        "outputId": "2a0dd920-a121-4fc0-c4fd-e95732fb279e"
      },
      "execution_count": 14,
      "outputs": [
        {
          "output_type": "stream",
          "name": "stdout",
          "text": [
            "Traceback (most recent call last):\n",
            "  File \"/usr/local/bin/twarc2\", line 5, in <module>\n",
            "    from twarc.command2 import twarc2\n",
            "  File \"/usr/local/lib/python3.7/dist-packages/twarc/__init__.py\", line 1, in <module>\n",
            "    from .client import Twarc\n",
            "  File \"/usr/local/lib/python3.7/dist-packages/twarc/client.py\", line 10, in <module>\n",
            "    import requests\n",
            "  File \"/usr/local/lib/python3.7/dist-packages/requests/__init__.py\", line 112, in <module>\n",
            "    from . import utils\n",
            "  File \"/usr/local/lib/python3.7/dist-packages/requests/utils.py\", line 25, in <module>\n",
            "    from . import certs\n",
            "  File \"/usr/local/lib/python3.7/dist-packages/requests/certs.py\", line 15, in <module>\n",
            "    from certifi import where\n",
            "  File \"/usr/local/lib/python3.7/dist-packages/certifi/__init__.py\", line 1, in <module>\n",
            "    from .core import contents, where\n",
            "  File \"/usr/local/lib/python3.7/dist-packages/certifi/core.py\", line 12, in <module>\n",
            "    from importlib.resources import path as get_path, read_text\n",
            "  File \"/usr/lib/python3.7/importlib/resources.py\", line 9, in <module>\n",
            "    from pathlib import Path\n",
            "  File \"<frozen importlib._bootstrap>\", line 983, in _find_and_load\n",
            "  File \"<frozen importlib._bootstrap>\", line 967, in _find_and_load_unlocked\n",
            "  File \"<frozen importlib._bootstrap>\", line 670, in _load_unlocked\n",
            "  File \"<frozen importlib._bootstrap>\", line 589, in module_from_spec\n",
            "  File \"<frozen importlib._bootstrap>\", line 563, in _init_module_attrs\n",
            "KeyboardInterrupt\n"
          ]
        }
      ]
    },
    {
      "cell_type": "markdown",
      "source": [
        "More info on query arguments: https://twarc-project.readthedocs.io/en/latest/twarc2_en_us/"
      ],
      "metadata": {
        "id": "-8voi2-5jrab"
      }
    },
    {
      "cell_type": "code",
      "source": [
        "# convert the json into csv (friendlier for pandas)\n",
        "\n",
        "!twarc2 csv results.jsonl tweets.csv"
      ],
      "metadata": {
        "id": "ZQaf7Gm-h0oT",
        "colab": {
          "base_uri": "https://localhost:8080/"
        },
        "outputId": "a11e106e-72f0-4759-ec02-c7982fba9ee1"
      },
      "execution_count": 15,
      "outputs": [
        {
          "output_type": "stream",
          "name": "stdout",
          "text": [
            "100% 10.5M/10.5M [00:01<00:00, 5.63MB/s]\n",
            "\n",
            "ℹ️\n",
            "Parsed 2800 tweets objects from 28 lines in the input file.\n",
            "Wrote 2800 rows and output 74 columns in the CSV.\n",
            "\n"
          ]
        }
      ]
    },
    {
      "cell_type": "code",
      "source": [
        "# read the csv and explore it\n",
        "\n",
        "df = pd.read_csv('tweets.csv')\n",
        "df.head()"
      ],
      "metadata": {
        "id": "iRT80h-ciHmH",
        "colab": {
          "base_uri": "https://localhost:8080/",
          "height": 491
        },
        "outputId": "7d899c34-e0bf-4a7e-bc65-a1db35ada315"
      },
      "execution_count": 16,
      "outputs": [
        {
          "output_type": "execute_result",
          "data": {
            "text/html": [
              "\n",
              "  <div id=\"df-6d7125c2-267f-4330-8b47-b74ca12cc193\">\n",
              "    <div class=\"colab-df-container\">\n",
              "      <div>\n",
              "<style scoped>\n",
              "    .dataframe tbody tr th:only-of-type {\n",
              "        vertical-align: middle;\n",
              "    }\n",
              "\n",
              "    .dataframe tbody tr th {\n",
              "        vertical-align: top;\n",
              "    }\n",
              "\n",
              "    .dataframe thead th {\n",
              "        text-align: right;\n",
              "    }\n",
              "</style>\n",
              "<table border=\"1\" class=\"dataframe\">\n",
              "  <thead>\n",
              "    <tr style=\"text-align: right;\">\n",
              "      <th></th>\n",
              "      <th>id</th>\n",
              "      <th>conversation_id</th>\n",
              "      <th>referenced_tweets.replied_to.id</th>\n",
              "      <th>referenced_tweets.retweeted.id</th>\n",
              "      <th>referenced_tweets.quoted.id</th>\n",
              "      <th>author_id</th>\n",
              "      <th>in_reply_to_user_id</th>\n",
              "      <th>retweeted_user_id</th>\n",
              "      <th>quoted_user_id</th>\n",
              "      <th>created_at</th>\n",
              "      <th>...</th>\n",
              "      <th>geo.geo.bbox</th>\n",
              "      <th>geo.geo.type</th>\n",
              "      <th>geo.id</th>\n",
              "      <th>geo.name</th>\n",
              "      <th>geo.place_id</th>\n",
              "      <th>geo.place_type</th>\n",
              "      <th>__twarc.retrieved_at</th>\n",
              "      <th>__twarc.url</th>\n",
              "      <th>__twarc.version</th>\n",
              "      <th>Unnamed: 73</th>\n",
              "    </tr>\n",
              "  </thead>\n",
              "  <tbody>\n",
              "    <tr>\n",
              "      <th>0</th>\n",
              "      <td>1499711153722769408</td>\n",
              "      <td>1499711153722769408</td>\n",
              "      <td>NaN</td>\n",
              "      <td>NaN</td>\n",
              "      <td>NaN</td>\n",
              "      <td>1360168321556094977</td>\n",
              "      <td>NaN</td>\n",
              "      <td>NaN</td>\n",
              "      <td>NaN</td>\n",
              "      <td>2022-03-04T11:39:36.000Z</td>\n",
              "      <td>...</td>\n",
              "      <td>NaN</td>\n",
              "      <td>NaN</td>\n",
              "      <td>NaN</td>\n",
              "      <td>NaN</td>\n",
              "      <td>NaN</td>\n",
              "      <td>NaN</td>\n",
              "      <td>2022-03-04T11:39:48+00:00</td>\n",
              "      <td>https://api.twitter.com/2/tweets/search/recent...</td>\n",
              "      <td>2.9.4</td>\n",
              "      <td>NaN</td>\n",
              "    </tr>\n",
              "    <tr>\n",
              "      <th>1</th>\n",
              "      <td>1499711153718665216</td>\n",
              "      <td>1499711153718665216</td>\n",
              "      <td>NaN</td>\n",
              "      <td>NaN</td>\n",
              "      <td>NaN</td>\n",
              "      <td>2290406826</td>\n",
              "      <td>NaN</td>\n",
              "      <td>NaN</td>\n",
              "      <td>NaN</td>\n",
              "      <td>2022-03-04T11:39:36.000Z</td>\n",
              "      <td>...</td>\n",
              "      <td>NaN</td>\n",
              "      <td>NaN</td>\n",
              "      <td>NaN</td>\n",
              "      <td>NaN</td>\n",
              "      <td>NaN</td>\n",
              "      <td>NaN</td>\n",
              "      <td>2022-03-04T11:39:48+00:00</td>\n",
              "      <td>https://api.twitter.com/2/tweets/search/recent...</td>\n",
              "      <td>2.9.4</td>\n",
              "      <td>NaN</td>\n",
              "    </tr>\n",
              "    <tr>\n",
              "      <th>2</th>\n",
              "      <td>1499711153651474433</td>\n",
              "      <td>1499711153651474433</td>\n",
              "      <td>NaN</td>\n",
              "      <td>1.499705e+18</td>\n",
              "      <td>NaN</td>\n",
              "      <td>1445377730380435458</td>\n",
              "      <td>NaN</td>\n",
              "      <td>1.460377e+18</td>\n",
              "      <td>NaN</td>\n",
              "      <td>2022-03-04T11:39:36.000Z</td>\n",
              "      <td>...</td>\n",
              "      <td>NaN</td>\n",
              "      <td>NaN</td>\n",
              "      <td>NaN</td>\n",
              "      <td>NaN</td>\n",
              "      <td>NaN</td>\n",
              "      <td>NaN</td>\n",
              "      <td>2022-03-04T11:39:48+00:00</td>\n",
              "      <td>https://api.twitter.com/2/tweets/search/recent...</td>\n",
              "      <td>2.9.4</td>\n",
              "      <td>NaN</td>\n",
              "    </tr>\n",
              "    <tr>\n",
              "      <th>3</th>\n",
              "      <td>1499711153374699531</td>\n",
              "      <td>1499711153374699531</td>\n",
              "      <td>NaN</td>\n",
              "      <td>1.499710e+18</td>\n",
              "      <td>NaN</td>\n",
              "      <td>1281926718329171968</td>\n",
              "      <td>NaN</td>\n",
              "      <td>2.620398e+07</td>\n",
              "      <td>NaN</td>\n",
              "      <td>2022-03-04T11:39:36.000Z</td>\n",
              "      <td>...</td>\n",
              "      <td>NaN</td>\n",
              "      <td>NaN</td>\n",
              "      <td>NaN</td>\n",
              "      <td>NaN</td>\n",
              "      <td>NaN</td>\n",
              "      <td>NaN</td>\n",
              "      <td>2022-03-04T11:39:48+00:00</td>\n",
              "      <td>https://api.twitter.com/2/tweets/search/recent...</td>\n",
              "      <td>2.9.4</td>\n",
              "      <td>NaN</td>\n",
              "    </tr>\n",
              "    <tr>\n",
              "      <th>4</th>\n",
              "      <td>1499711153357746177</td>\n",
              "      <td>1499711153357746177</td>\n",
              "      <td>NaN</td>\n",
              "      <td>1.499697e+18</td>\n",
              "      <td>NaN</td>\n",
              "      <td>1123238510939344898</td>\n",
              "      <td>NaN</td>\n",
              "      <td>7.098564e+07</td>\n",
              "      <td>NaN</td>\n",
              "      <td>2022-03-04T11:39:36.000Z</td>\n",
              "      <td>...</td>\n",
              "      <td>NaN</td>\n",
              "      <td>NaN</td>\n",
              "      <td>NaN</td>\n",
              "      <td>NaN</td>\n",
              "      <td>NaN</td>\n",
              "      <td>NaN</td>\n",
              "      <td>2022-03-04T11:39:48+00:00</td>\n",
              "      <td>https://api.twitter.com/2/tweets/search/recent...</td>\n",
              "      <td>2.9.4</td>\n",
              "      <td>NaN</td>\n",
              "    </tr>\n",
              "  </tbody>\n",
              "</table>\n",
              "<p>5 rows × 74 columns</p>\n",
              "</div>\n",
              "      <button class=\"colab-df-convert\" onclick=\"convertToInteractive('df-6d7125c2-267f-4330-8b47-b74ca12cc193')\"\n",
              "              title=\"Convert this dataframe to an interactive table.\"\n",
              "              style=\"display:none;\">\n",
              "        \n",
              "  <svg xmlns=\"http://www.w3.org/2000/svg\" height=\"24px\"viewBox=\"0 0 24 24\"\n",
              "       width=\"24px\">\n",
              "    <path d=\"M0 0h24v24H0V0z\" fill=\"none\"/>\n",
              "    <path d=\"M18.56 5.44l.94 2.06.94-2.06 2.06-.94-2.06-.94-.94-2.06-.94 2.06-2.06.94zm-11 1L8.5 8.5l.94-2.06 2.06-.94-2.06-.94L8.5 2.5l-.94 2.06-2.06.94zm10 10l.94 2.06.94-2.06 2.06-.94-2.06-.94-.94-2.06-.94 2.06-2.06.94z\"/><path d=\"M17.41 7.96l-1.37-1.37c-.4-.4-.92-.59-1.43-.59-.52 0-1.04.2-1.43.59L10.3 9.45l-7.72 7.72c-.78.78-.78 2.05 0 2.83L4 21.41c.39.39.9.59 1.41.59.51 0 1.02-.2 1.41-.59l7.78-7.78 2.81-2.81c.8-.78.8-2.07 0-2.86zM5.41 20L4 18.59l7.72-7.72 1.47 1.35L5.41 20z\"/>\n",
              "  </svg>\n",
              "      </button>\n",
              "      \n",
              "  <style>\n",
              "    .colab-df-container {\n",
              "      display:flex;\n",
              "      flex-wrap:wrap;\n",
              "      gap: 12px;\n",
              "    }\n",
              "\n",
              "    .colab-df-convert {\n",
              "      background-color: #E8F0FE;\n",
              "      border: none;\n",
              "      border-radius: 50%;\n",
              "      cursor: pointer;\n",
              "      display: none;\n",
              "      fill: #1967D2;\n",
              "      height: 32px;\n",
              "      padding: 0 0 0 0;\n",
              "      width: 32px;\n",
              "    }\n",
              "\n",
              "    .colab-df-convert:hover {\n",
              "      background-color: #E2EBFA;\n",
              "      box-shadow: 0px 1px 2px rgba(60, 64, 67, 0.3), 0px 1px 3px 1px rgba(60, 64, 67, 0.15);\n",
              "      fill: #174EA6;\n",
              "    }\n",
              "\n",
              "    [theme=dark] .colab-df-convert {\n",
              "      background-color: #3B4455;\n",
              "      fill: #D2E3FC;\n",
              "    }\n",
              "\n",
              "    [theme=dark] .colab-df-convert:hover {\n",
              "      background-color: #434B5C;\n",
              "      box-shadow: 0px 1px 3px 1px rgba(0, 0, 0, 0.15);\n",
              "      filter: drop-shadow(0px 1px 2px rgba(0, 0, 0, 0.3));\n",
              "      fill: #FFFFFF;\n",
              "    }\n",
              "  </style>\n",
              "\n",
              "      <script>\n",
              "        const buttonEl =\n",
              "          document.querySelector('#df-6d7125c2-267f-4330-8b47-b74ca12cc193 button.colab-df-convert');\n",
              "        buttonEl.style.display =\n",
              "          google.colab.kernel.accessAllowed ? 'block' : 'none';\n",
              "\n",
              "        async function convertToInteractive(key) {\n",
              "          const element = document.querySelector('#df-6d7125c2-267f-4330-8b47-b74ca12cc193');\n",
              "          const dataTable =\n",
              "            await google.colab.kernel.invokeFunction('convertToInteractive',\n",
              "                                                     [key], {});\n",
              "          if (!dataTable) return;\n",
              "\n",
              "          const docLinkHtml = 'Like what you see? Visit the ' +\n",
              "            '<a target=\"_blank\" href=https://colab.research.google.com/notebooks/data_table.ipynb>data table notebook</a>'\n",
              "            + ' to learn more about interactive tables.';\n",
              "          element.innerHTML = '';\n",
              "          dataTable['output_type'] = 'display_data';\n",
              "          await google.colab.output.renderOutput(dataTable, element);\n",
              "          const docLink = document.createElement('div');\n",
              "          docLink.innerHTML = docLinkHtml;\n",
              "          element.appendChild(docLink);\n",
              "        }\n",
              "      </script>\n",
              "    </div>\n",
              "  </div>\n",
              "  "
            ],
            "text/plain": [
              "                    id      conversation_id  referenced_tweets.replied_to.id  \\\n",
              "0  1499711153722769408  1499711153722769408                              NaN   \n",
              "1  1499711153718665216  1499711153718665216                              NaN   \n",
              "2  1499711153651474433  1499711153651474433                              NaN   \n",
              "3  1499711153374699531  1499711153374699531                              NaN   \n",
              "4  1499711153357746177  1499711153357746177                              NaN   \n",
              "\n",
              "   referenced_tweets.retweeted.id  referenced_tweets.quoted.id  \\\n",
              "0                             NaN                          NaN   \n",
              "1                             NaN                          NaN   \n",
              "2                    1.499705e+18                          NaN   \n",
              "3                    1.499710e+18                          NaN   \n",
              "4                    1.499697e+18                          NaN   \n",
              "\n",
              "             author_id  in_reply_to_user_id  retweeted_user_id  \\\n",
              "0  1360168321556094977                  NaN                NaN   \n",
              "1           2290406826                  NaN                NaN   \n",
              "2  1445377730380435458                  NaN       1.460377e+18   \n",
              "3  1281926718329171968                  NaN       2.620398e+07   \n",
              "4  1123238510939344898                  NaN       7.098564e+07   \n",
              "\n",
              "   quoted_user_id                created_at  ... geo.geo.bbox geo.geo.type  \\\n",
              "0             NaN  2022-03-04T11:39:36.000Z  ...          NaN          NaN   \n",
              "1             NaN  2022-03-04T11:39:36.000Z  ...          NaN          NaN   \n",
              "2             NaN  2022-03-04T11:39:36.000Z  ...          NaN          NaN   \n",
              "3             NaN  2022-03-04T11:39:36.000Z  ...          NaN          NaN   \n",
              "4             NaN  2022-03-04T11:39:36.000Z  ...          NaN          NaN   \n",
              "\n",
              "  geo.id  geo.name  geo.place_id  geo.place_type       __twarc.retrieved_at  \\\n",
              "0    NaN       NaN           NaN             NaN  2022-03-04T11:39:48+00:00   \n",
              "1    NaN       NaN           NaN             NaN  2022-03-04T11:39:48+00:00   \n",
              "2    NaN       NaN           NaN             NaN  2022-03-04T11:39:48+00:00   \n",
              "3    NaN       NaN           NaN             NaN  2022-03-04T11:39:48+00:00   \n",
              "4    NaN       NaN           NaN             NaN  2022-03-04T11:39:48+00:00   \n",
              "\n",
              "                                         __twarc.url  __twarc.version  \\\n",
              "0  https://api.twitter.com/2/tweets/search/recent...            2.9.4   \n",
              "1  https://api.twitter.com/2/tweets/search/recent...            2.9.4   \n",
              "2  https://api.twitter.com/2/tweets/search/recent...            2.9.4   \n",
              "3  https://api.twitter.com/2/tweets/search/recent...            2.9.4   \n",
              "4  https://api.twitter.com/2/tweets/search/recent...            2.9.4   \n",
              "\n",
              "   Unnamed: 73  \n",
              "0          NaN  \n",
              "1          NaN  \n",
              "2          NaN  \n",
              "3          NaN  \n",
              "4          NaN  \n",
              "\n",
              "[5 rows x 74 columns]"
            ]
          },
          "metadata": {},
          "execution_count": 16
        }
      ]
    },
    {
      "cell_type": "code",
      "source": [
        "for item in df.text:\n",
        "  print(item)"
      ],
      "metadata": {
        "id": "0Rn7VOMsiNZD"
      },
      "execution_count": null,
      "outputs": []
    },
    {
      "cell_type": "code",
      "source": [
        "for item in df.lang:\n",
        "  print(item)"
      ],
      "metadata": {
        "id": "IcDCkvCsiRd9"
      },
      "execution_count": null,
      "outputs": []
    }
  ]
}